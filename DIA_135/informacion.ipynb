{
 "cells": [
  {
   "cell_type": "markdown",
   "id": "26ea5b95",
   "metadata": {},
   "source": [
    "## DIA 135: Insertar un Gráfico de Línea de Reportes por Día en el Excel Exportado "
   ]
  },
  {
   "cell_type": "markdown",
   "id": "d1a1e631",
   "metadata": {},
   "source": [
    "Hoy vamos a generar un gráfico de línea dentro del archivo Excel que muestre la evolución diaria del número de reportes, es decir, cuántos reportes se generaron por día en forma cronológica.\n",
    "\n",
    "Esto permite al usuario visualizar:\n",
    "\n",
    "Tendencias de trabajo o carga de reportes\n",
    "\n",
    "Fechas pico o de baja actividad\n",
    "\n",
    "Ritmos mensuales o semanales\n",
    "\n",
    "🧩 1. Contar los reportes por fecha\n",
    "Dentro de tu ruta /exportar-historial.xlsx, después de crear el df:\n",
    "\n",
    "python\n",
    "Copiar\n",
    "Editar\n",
    "df_fechas = df['Fecha'].value_counts().reset_index()\n",
    "df_fechas.columns = ['Fecha', 'Cantidad']\n",
    "df_fechas = df_fechas.sort_values('Fecha')  # Orden cronológico\n",
    "🧩 2. Guardar este DataFrame en la hoja \"Tendencia\"\n",
    "Dentro del bloque with pd.ExcelWriter(...) as writer::\n",
    "\n",
    "python\n",
    "Copiar\n",
    "Editar\n",
    "df_fechas.to_excel(writer, index=False, sheet_name='Tendencia')\n",
    "🧩 3. Crear el gráfico de línea con xlsxwriter\n",
    "Agrega esto debajo del insert_chart de la hoja \"Resumen\":\n",
    "\n",
    "python\n",
    "Copiar\n",
    "Editar\n",
    "# Insertar gráfico de línea en hoja \"Tendencia\"\n",
    "tendencia_sheet = writer.sheets['Tendencia']\n",
    "chart_line = workbook.add_chart({'type': 'line'})\n",
    "\n",
    "chart_line.add_series({\n",
    "    'name': 'Reportes por Día',\n",
    "    'categories': ['Tendencia', 1, 0, len(df_fechas), 0],\n",
    "    'values':     ['Tendencia', 1, 1, len(df_fechas), 1],\n",
    "    'line':       {'color': 'blue'}\n",
    "})\n",
    "\n",
    "chart_line.set_title({'name': 'Evolución Diaria de Reportes'})\n",
    "chart_line.set_x_axis({'name': 'Fecha'})\n",
    "chart_line.set_y_axis({'name': 'Cantidad'})\n",
    "chart_line.set_style(12)\n",
    "\n",
    "tendencia_sheet.insert_chart('D2', chart_line)\n"
   ]
  }
 ],
 "metadata": {
  "language_info": {
   "name": "python"
  }
 },
 "nbformat": 4,
 "nbformat_minor": 5
}
