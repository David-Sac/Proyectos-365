{
 "cells": [
  {
   "cell_type": "markdown",
   "id": "b861ec3c",
   "metadata": {},
   "source": [
    "## DIA 109: Permitir que el Usuario Personalice la Frecuencia y Formato del Reporte (PDF o CSV)"
   ]
  },
  {
   "cell_type": "markdown",
   "id": "044993ec",
   "metadata": {},
   "source": [
    "109: Permitir que el Usuario Personalice la Frecuencia y Formato del Reporte (PDF o CSV)"
   ]
  }
 ],
 "metadata": {
  "language_info": {
   "name": "python"
  }
 },
 "nbformat": 4,
 "nbformat_minor": 5
}
