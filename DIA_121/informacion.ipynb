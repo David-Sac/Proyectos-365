{
 "cells": [
  {
   "cell_type": "markdown",
   "id": "44e7511f",
   "metadata": {},
   "source": [
    "## DIA 121: Agregar Comentarios u Observaciones Personales a Cada Reporte"
   ]
  },
  {
   "cell_type": "markdown",
   "id": "b051462e",
   "metadata": {},
   "source": [
    "Hoy aprenderás a permitir que el usuario agregue comentarios u observaciones sobre cada uno de sus reportes. Esto es útil para:\n",
    "\n",
    "📝 Registrar análisis o decisiones tomadas\n",
    "\n",
    "🔄 Compartir notas con otros colaboradores\n",
    "\n",
    "📌 Dejar recordatorios sobre por qué se generó cierto reporte\n",
    "\n",
    "✅ ¿Qué aprenderás hoy?\n",
    "\n",
    "Añadir un campo de comentario al modelo Reporte\n",
    "\n",
    "Crear un formulario para escribir/editar observaciones\n",
    "\n",
    "Guardarlas y mostrarlas en la vista del visor de reportes\n",
    "\n",
    "🧩 1. Modificar el modelo Reporte para incluir comentarios\n",
    "python\n",
    "Copiar\n",
    "Editar\n",
    "class Reporte(db.Model):\n",
    "    id = db.Column(db.Integer, primary_key=True)\n",
    "    user_id = db.Column(db.Integer, db.ForeignKey('user.id'), nullable=False)\n",
    "    fecha_generado = db.Column(db.DateTime, default=datetime.utcnow)\n",
    "    tipo = db.Column(db.String(10))  # 'pdf' o 'csv'\n",
    "    url = db.Column(db.String(500))\n",
    "    comentario = db.Column(db.Text)  # nuevo campo opcional\n",
    "✅ Ejecuta una migración o db.create_all() si estás en desarrollo.\n",
    "\n",
    "🧩 2. Modificar el visor ver_reporte.html para mostrar y editar comentarios\n",
    "html\n",
    "Copiar\n",
    "Editar\n",
    "<hr>\n",
    "<h3>📝 Comentarios u Observaciones</h3>\n",
    "\n",
    "<form method=\"POST\" action=\"/guardar-comentario/{{ reporte.id }}\">\n",
    "  <textarea name=\"comentario\" rows=\"6\" cols=\"80\">{{ reporte.comentario or '' }}</textarea><br><br>\n",
    "  <button type=\"submit\">💾 Guardar comentario</button>\n",
    "</form>\n",
    "🧩 3. Crear ruta para guardar comentarios\n",
    "python\n",
    "Copiar\n",
    "Editar\n",
    "@app.route('/guardar-comentario/<int:reporte_id>', methods=['POST'])\n",
    "@login_required\n",
    "def guardar_comentario(reporte_id):\n",
    "    reporte = Reporte.query.get_or_404(reporte_id)\n",
    "    if reporte.user_id != current_user.id:\n",
    "        return \"No tienes permiso para editar este reporte\", 403\n",
    "\n",
    "    comentario = request.form.get(\"comentario\", \"\").strip()\n",
    "    reporte.comentario = comentario\n",
    "    db.session.commit()\n",
    "    return redirect(f\"/ver-reporte/{reporte_id}\")\n",
    "🧩 4. Mostrar el comentario en el historial (opcional)\n",
    "En tu historial_reportes.html puedes añadir una columna de \"🗒 Comentario corto\":\n",
    "\n",
    "html\n",
    "Copiar\n",
    "Editar\n",
    "<td>{{ reporte.comentario[:30] ~ '...' if reporte.comentario|length > 30 else report"
   ]
  }
 ],
 "metadata": {
  "language_info": {
   "name": "python"
  }
 },
 "nbformat": 4,
 "nbformat_minor": 5
}
