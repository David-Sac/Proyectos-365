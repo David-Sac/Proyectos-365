{
 "cells": [
  {
   "cell_type": "markdown",
   "metadata": {},
   "source": [
    "## DIA 009: Gradient Boosting para Clasificación"
   ]
  },
  {
   "cell_type": "markdown",
   "metadata": {},
   "source": [
    "El Gradient Boosting es una técnica de aprendizaje supervisado que construye modelos predictivos de manera secuencial, donde cada nuevo modelo intenta corregir los errores del anterior. A diferencia de los Bosques Aleatorios, que entrenan múltiples árboles de decisión de forma independiente, el Gradient Boosting entrena árboles de decisión de manera aditiva, enfocándose en las áreas donde el modelo previo tuvo un desempeño deficiente.\n",
    "\n",
    "Características clave del Gradient Boosting:\n",
    "\n",
    "- Ensemble Learning: Combina múltiples modelos débiles (árboles de decisión) para formar un modelo fuerte.\n",
    "- Aprendizaje Secuencial: Cada nuevo árbol se entrena para corregir los errores residuales del conjunto anterior.\n",
    "- Flexibilidad: Puede optimizar diferentes funciones de pérdida y adaptarse a diversos tipos de datos.\n",
    "- Importancia de las Características: Al igual que en Random Forests, permite identificar qué variables son más relevantes para las predicciones."
   ]
  },
  {
   "cell_type": "code",
   "execution_count": 15,
   "metadata": {},
   "outputs": [],
   "source": [
    "import pandas as pd\n",
    "import numpy as np\n",
    "import matplotlib.pyplot as plt\n",
    "import seaborn as sns\n",
    "from sklearn.model_selection import train_test_split, GridSearchCV\n",
    "from lightgbm import LGBMClassifier\n",
    "from sklearn.metrics import accuracy_score, confusion_matrix, classification_report, roc_curve, auc\n",
    "import joblib\n",
    "\n",
    "# 1. Cargar el dataset\n",
    "df = pd.read_csv('titanic.csv')"
   ]
  }
 ],
 "metadata": {
  "kernelspec": {
   "display_name": "Python 3",
   "language": "python",
   "name": "python3"
  },
  "language_info": {
   "codemirror_mode": {
    "name": "ipython",
    "version": 3
   },
   "file_extension": ".py",
   "mimetype": "text/x-python",
   "name": "python",
   "nbconvert_exporter": "python",
   "pygments_lexer": "ipython3",
   "version": "3.12.5"
  }
 },
 "nbformat": 4,
 "nbformat_minor": 2
}
