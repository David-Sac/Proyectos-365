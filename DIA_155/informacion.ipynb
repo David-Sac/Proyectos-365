{
 "cells": [
  {
   "cell_type": "markdown",
   "id": "43eb62bf",
   "metadata": {},
   "source": [
    "## 155: Implementación de roles de usuario con JWT en FastAPI"
   ]
  },
  {
   "cell_type": "markdown",
   "id": "ef0f1295",
   "metadata": {},
   "source": [
    "Agregar soporte para roles de usuario (por ejemplo: admin, user, moderator) en el sistema de autenticación con JWT, y usar esos roles para restringir el acceso a ciertas rutas.\n",
    "\n",
    "🧩 Código completo: JWT con roles y rutas basadas en rol\n",
    "python\n",
    "Copiar\n",
    "Editar\n",
    "from fastapi import FastAPI, Depends, HTTPException, status\n",
    "from fastapi.security import OAuth2PasswordBearer\n",
    "from jose import jwt, JWTError\n",
    "from typing import Optional\n",
    "from datetime import datetime, timedelta\n",
    "\n",
    "app = FastAPI()\n",
    "\n",
    "# Configuración\n",
    "SECRET_KEY = \"CLAVE_SUPER_SECRETA\"\n",
    "ALGORITHM = \"HS256\"\n",
    "ACCESS_TOKEN_EXPIRE_MINUTES = 30\n",
    "\n",
    "oauth2_scheme = OAuth2PasswordBearer(tokenUrl=\"login\")\n",
    "\n",
    "# Función para crear token con rol\n",
    "def crear_token(email: str, rol: str) -> str:\n",
    "    expiracion = datetime.utcnow() + timedelta(minutes=ACCESS_TOKEN_EXPIRE_MINUTES)\n",
    "    datos = {\"sub\": email, \"rol\": rol, \"exp\": expiracion}\n",
    "    token = jwt.encode(datos, SECRET_KEY, algorithm=ALGORITHM)\n",
    "    return token\n",
    "\n",
    "# Función para obtener datos del usuario desde el token\n",
    "def obtener_usuario_actual(token: str = Depends(oauth2_scheme)):\n",
    "    try:\n",
    "        payload = jwt.decode(token, SECRET_KEY, algorithms=[ALGORITHM])\n",
    "        email: str = payload.get(\"sub\")\n",
    "        rol: str = payload.get(\"rol\")\n",
    "        if email is None or rol is None:\n",
    "            raise HTTPException(status_code=401, detail=\"Token inválido\")\n",
    "        return {\"email\": email, \"rol\": rol}\n",
    "    except JWTError:\n",
    "        raise HTTPException(status_code=401, detail=\"Token inválido o expirado\")\n",
    "\n",
    "# Ruta para crear token (simula login)\n",
    "@app.post(\"/login\")\n",
    "def login(email: str, rol: str):\n",
    "    # ⚠️ En un sistema real, aquí validarías las credenciales\n",
    "    token = crear_token(email, rol)\n",
    "    return {\"access_token\": token, \"token_type\": \"bearer\"}\n",
    "\n",
    "# Ruta accesible solo para usuarios admin\n",
    "@app.get(\"/solo-admin\")\n",
    "def solo_admin(usuario=Depends(obtener_usuario_actual)):\n",
    "    if usuario[\"rol\"] != \"admin\":\n",
    "        raise HTTPException(status_code=403, detail=\"Acceso restringido solo para administradores\")\n",
    "    return {\"mensaje\": f\"Bienvenido administrador {usuario['email']}\"}\n",
    "\n",
    "# Ruta accesible para cualquier usuario autenticado\n",
    "@app.get(\"/perfil\")\n",
    "def perfil(usuario=Depends(obtener_usuario_actual)):\n",
    "    return {\"email\": usuario[\"email\"], \"rol\": usuario[\"rol\"]}"
   ]
  }
 ],
 "metadata": {
  "language_info": {
   "name": "python"
  }
 },
 "nbformat": 4,
 "nbformat_minor": 5
}
