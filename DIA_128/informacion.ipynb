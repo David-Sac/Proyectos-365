{
 "cells": [
  {
   "cell_type": "markdown",
   "id": "47c24a28",
   "metadata": {},
   "source": [
    "## DIA 128: Estadísticas por Categoría con Gráfico de Barras"
   ]
  },
  {
   "cell_type": "markdown",
   "id": "cd892b52",
   "metadata": {},
   "source": [
    "🧩 1. Ruta Flask para enviar datos por categoría (API JSON)\n",
    "Agrega esta ruta:\n",
    "\n",
    "python\n",
    "Copiar\n",
    "Editar\n",
    "@app.route('/api/reportes-por-categoria')\n",
    "@login_required\n",
    "def reportes_por_categoria():\n",
    "    resultados = db.session.query(\n",
    "        Reporte.categoria,\n",
    "        db.func.count(Reporte.id)\n",
    "    ).filter_by(user_id=current_user.id).group_by(Reporte.categoria).all()\n",
    "\n",
    "    categorias = [r[0] if r[0] else \"Sin categoría\" for r in resultados]\n",
    "    cantidades = [r[1] for r in resultados]\n",
    "\n",
    "    return jsonify({\"categorias\": categorias, \"valores\": cantidades})\n",
    "🧩 2. Añadir canvas en el HTML estadisticas_reportes.html\n",
    "Agrega en el cuerpo del HTML:\n",
    "\n",
    "html\n",
    "Copiar\n",
    "Editar\n",
    "<div style=\"width:600px; margin:30px auto;\">\n",
    "  <canvas id=\"graficoCategorias\"></canvas>\n",
    "</div>\n",
    "🧩 3. Script JavaScript para renderizar el gráfico\n",
    "Después del script de los otros gráficos (graficoMeses, graficoTipos), agrega:\n",
    "\n",
    "html\n",
    "Copiar\n",
    "Editar\n",
    "const ctxCategorias = document.getElementById('graficoCategorias').getContext('2d');\n",
    "\n",
    "fetch('/api/reportes-por-categoria')\n",
    "  .then(res => res.json())\n",
    "  .then(data => {\n",
    "    new Chart(ctxCategorias, {\n",
    "      type: 'bar',\n",
    "      data: {\n",
    "        labels: data.categorias,\n",
    "        datasets: [{\n",
    "          label: 'Reportes por Categoría',\n",
    "          data: data.valores,\n",
    "          backgroundColor: 'mediumseagreen'\n",
    "        }]\n",
    "      },\n",
    "      options: {\n",
    "        responsive: true,\n",
    "        plugins: {\n",
    "          legend: { display: false },\n",
    "          title: {\n",
    "            display: true,\n",
    "            text: 'Reportes por Categoría'\n",
    "          }\n",
    "        }\n",
    "      }\n",
    "    });\n",
    "  });\n"
   ]
  }
 ],
 "metadata": {
  "language_info": {
   "name": "python"
  }
 },
 "nbformat": 4,
 "nbformat_minor": 5
}
