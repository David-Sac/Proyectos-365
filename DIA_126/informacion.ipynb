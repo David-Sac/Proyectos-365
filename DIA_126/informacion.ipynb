{
 "cells": [
  {
   "cell_type": "markdown",
   "id": "0e1bc037",
   "metadata": {},
   "source": [
    "## DIA 126: Validar que la Nueva Categoría No Repita una Existente\n"
   ]
  },
  {
   "cell_type": "markdown",
   "id": "67b1d0ac",
   "metadata": {},
   "source": [
    "Mejorar el formulario de carga de reportes para evitar que un usuario involuntariamente cree una categoría que ya existe (por error de tipeo, por ejemplo: \"Mensual\" vs \"mensual\").\n",
    "\n",
    "🧩 1. Normalizar categorías existentes en Flask\n",
    "En la vista cargar_reporte, convierte todas las categorías existentes a minúsculas para comparar correctamente:\n",
    "\n",
    "python\n",
    "Copiar\n",
    "Editar\n",
    "@app.route('/cargar', methods=['GET', 'POST'])\n",
    "@login_required\n",
    "def cargar_reporte():\n",
    "    categorias = db.session.query(Reporte.categoria).filter_by(user_id=current_user.id).distinct().all()\n",
    "    categorias = [c[0] for c in categorias if c[0]]\n",
    "    categorias_lower = [c.lower() for c in categorias]\n",
    "\n",
    "    if request.method == 'POST':\n",
    "        titulo = request.form['titulo'].strip()\n",
    "        nueva_categoria = request.form.get('nueva_categoria', '').strip()\n",
    "        categoria_existente = request.form.get('categoria_existente', '').strip()\n",
    "\n",
    "        # Determinar la categoría final\n",
    "        if nueva_categoria:\n",
    "            if nueva_categoria.lower() in categorias_lower:\n",
    "                # Ya existe una similar: usar la categoría original que coincide\n",
    "                categoria_final = next(c for c in categorias if c.lower() == nueva_categoria.lower())\n",
    "            else:\n",
    "                categoria_final = nueva_categoria\n",
    "        else:\n",
    "            categoria_final = categoria_existente\n",
    "\n",
    "        nuevo_reporte = Reporte(\n",
    "            titulo=titulo,\n",
    "            categoria=categoria_final,\n",
    "            user_id=current_user.id\n",
    "        )\n",
    "        db.session.add(nuevo_reporte)\n",
    "        db.session.commit()\n",
    "\n",
    "        flash(\"Reporte cargado con categoría válida.\", \"success\")\n",
    "        return redirect(url_for('historial_reportes'))\n",
    "\n",
    "    return render_template(\"cargar_reporte.html\", categorias=categorias)\n",
    "🧩 2. Mejora opcional: mostrar una advertencia si la nueva categoría ya existe\n",
    "Esto se puede hacer con JavaScript (opcional), pero por simplicidad lo resolvemos 100% en backend."
   ]
  }
 ],
 "metadata": {
  "language_info": {
   "name": "python"
  }
 },
 "nbformat": 4,
 "nbformat_minor": 5
}
