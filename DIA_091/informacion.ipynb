{
 "cells": [
  {
   "cell_type": "markdown",
   "metadata": {},
   "source": [
    "## DIA 091: Exportar Historial Individual del Usuario a CSV en Flask"
   ]
  },
  {
   "cell_type": "markdown",
   "metadata": {},
   "source": [
    "Hoy implementaremos una nueva función para que cada usuario pueda descargar su historial de predicciones en un archivo CSV.\n",
    "Esto es útil para análisis externos, respaldo de datos o simplemente para dar control al usuario sobre su información.\n",
    "\n",
    "✅ ¿Qué aprenderás hoy?\n",
    "\n",
    "📌 Exportar registros a CSV usando pandas.\n",
    "\n",
    "📌 Generar archivos dinámicamente en memoria con io.BytesIO.\n",
    "\n",
    "📌 Filtrar datos por usuario y ofrecerlos como descarga.\n",
    "\n",
    "🧩 1. Nueva Ruta /exportar-mis-datos en app.py\n",
    "Agrega este código en tu archivo Flask principal:\n",
    "\n",
    "python\n",
    "Copiar\n",
    "Editar\n",
    "from flask import send_file\n",
    "import pandas as pd\n",
    "import io\n",
    "\n",
    "@app.route(\"/exportar-mis-datos\")\n",
    "@login_required\n",
    "def exportar_mis_datos():\n",
    "    registros = Registro.query.filter_by(user_id=current_user.id).order_by(Registro.fecha.desc()).all()\n",
    "    \n",
    "    data = [{\n",
    "        \"Fecha\": r.fecha.strftime('%Y-%m-%d %H:%M:%S'),\n",
    "        \"F1\": r.f1,\n",
    "        \"F2\": r.f2,\n",
    "        \"F3\": r.f3,\n",
    "        \"F4\": r.f4,\n",
    "        \"Predicción\": r.prediccion\n",
    "    } for r in registros]\n",
    "\n",
    "    df = pd.DataFrame(data)\n",
    "\n",
    "    # Crear CSV en memoria\n",
    "    output = io.StringIO()\n",
    "    df.to_csv(output, index=False)\n",
    "    output.seek(0)\n",
    "\n",
    "    # Enviar archivo\n",
    "    return send_file(\n",
    "        io.BytesIO(output.getvalue().encode()),\n",
    "        mimetype='text/csv',\n",
    "        as_attachment=True,\n",
    "        download_name=f\"mi_historial_{current_user.username}.csv\"\n",
    "    )\n",
    "🖼️ 2. Botón en mi_historial.html\n",
    "Agrega este botón sobre la tabla de historial para exportar los datos:\n",
    "\n",
    "html\n",
    "Copiar\n",
    "Editar\n",
    "<a href=\"/exportar-mis-datos\" class=\"btn btn-success mb-3\">📥 Exportar CSV</a>\n",
    "🔍 Líneas Clave Explicadas\n",
    "Registro.query.filter_by(user_id=current_user.id): filtra el historial solo del usuario actual.\n",
    "\n",
    "io.StringIO() y BytesIO: crean archivos en memoria sin guardarlos en disco.\n",
    "\n",
    "send_file(...): envía el archivo como descarga al navegador.\n",
    "\n",
    "download_name=...: define el nombre del archivo que el usuario descargará.\n",
    "\n"
   ]
  }
 ],
 "metadata": {
  "language_info": {
   "name": "python"
  }
 },
 "nbformat": 4,
 "nbformat_minor": 2
}
