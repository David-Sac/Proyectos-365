{
 "cells": [
  {
   "cell_type": "markdown",
   "id": "a78ee6d0",
   "metadata": {},
   "source": [
    "## 153: Inicio de sesión de usuario con verificación de cuenta (FastAPI + JWT)"
   ]
  },
  {
   "cell_type": "markdown",
   "id": "5c6094d7",
   "metadata": {},
   "source": [
    "Implementar el endpoint de inicio de sesión (/login) que permita autenticar a un usuario solo si su cuenta ya fue verificada mediante el token de activación. El sistema retornará un JWT de acceso válido por un tiempo determinado.\n",
    "\n",
    "🧩 Código completo del inicio de sesión con verificación de cuenta\n",
    "python\n",
    "Copiar\n",
    "Editar\n",
    "from fastapi import APIRouter, HTTPException, Depends\n",
    "from sqlalchemy.orm import Session\n",
    "from passlib.context import CryptContext\n",
    "import jwt\n",
    "from datetime import datetime, timedelta\n",
    "\n",
    "router = APIRouter()\n",
    "\n",
    "SECRET_KEY = \"CLAVE_SECRETA_SEGURA\"\n",
    "ALGORITHM = \"HS256\"\n",
    "ACCESS_TOKEN_EXPIRE_MINUTES = 30\n",
    "\n",
    "pwd_context = CryptContext(schemes=[\"bcrypt\"], deprecated=\"auto\")\n",
    "\n",
    "@router.post(\"/login\")\n",
    "def login_user(email: str, password: str, db: Session = Depends(get_db)):\n",
    "    user = db.query(User).filter_by(email=email).first()\n",
    "\n",
    "    if not user:\n",
    "        raise HTTPException(status_code=404, detail=\"❌ Usuario no encontrado\")\n",
    "\n",
    "    if not user.is_active:\n",
    "        raise HTTPException(status_code=403, detail=\"⚠️ Cuenta no verificada\")\n",
    "\n",
    "    if not pwd_context.verify(password, user.hashed_password):\n",
    "        raise HTTPException(status_code=401, detail=\"🔐 Contraseña incorrecta\")\n",
    "\n",
    "    expiration = datetime.utcnow() + timedelta(minutes=ACCESS_TOKEN_EXPIRE_MINUTES)\n",
    "    payload = {\n",
    "        \"sub\": user.email,\n",
    "        \"exp\": expiration\n",
    "    }\n",
    "    token = jwt.encode(payload, SECRET_KEY, algorithm=ALGORITHM)\n",
    "\n",
    "    return {\n",
    "        \"access_token\": token,\n",
    "        \"token_type\": \"bearer\"\n",
    "    }"
   ]
  }
 ],
 "metadata": {
  "language_info": {
   "name": "python"
  }
 },
 "nbformat": 4,
 "nbformat_minor": 5
}
