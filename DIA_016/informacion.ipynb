{
 "cells": [
  {
   "cell_type": "markdown",
   "metadata": {},
   "source": [
    "## DIA 016: Fine-Turning Avanzado del Modelo"
   ]
  },
  {
   "cell_type": "markdown",
   "metadata": {},
   "source": [
    "El Fine-Tuning avanzado implica descongelar algunas de las capas superiores del modelo base (VGG16) para permitir que el modelo aprenda características más específicas del nuevo conjunto de datos (MNIST). Esto puede mejorar la precisión y la capacidad de generalización del modelo."
   ]
  },
  {
   "cell_type": "code",
   "execution_count": null,
   "metadata": {},
   "outputs": [],
   "source": [
    "# 1. Importación de Librerías\n",
    "# ------------------------------------\n",
    "import tensorflow as tf\n",
    "from tensorflow.keras import layers, models\n",
    "from tensorflow.keras.applications import VGG16\n",
    "from tensorflow.keras.callbacks import EarlyStopping, ModelCheckpoint, ReduceLROnPlateau\n",
    "import matplotlib.pyplot as plt\n",
    "import numpy as np\n",
    "from sklearn.metrics import classification_report, confusion_matrix\n",
    "import seaborn as sns\n"
   ]
  },
  {
   "cell_type": "code",
   "execution_count": null,
   "metadata": {},
   "outputs": [],
   "source": [
    "# 2. Cargar el Mejor Modelo Guardado\n",
    "# ------------------------------------\n",
    "\n",
    "# Cargar el mejor modelo guardado durante el entrenamiento anterior\n",
    "mejor_modelo = tf.keras.models.load_model('mejor_modelo.h5')\n",
    "print(\"Mejor modelo cargado exitosamente.\")\n"
   ]
  },
  {
   "cell_type": "code",
   "execution_count": null,
   "metadata": {},
   "outputs": [],
   "source": [
    "# 3. Descongelar las Capas Superiores de VGG16 para Fine-Tuning\n",
    "# ------------------------------------\n",
    "\n",
    "# Obtener la capa base del modelo (VGG16)\n",
    "base_model = mejor_modelo.layers[0]\n",
    "\n",
    "# Mostrar el nombre de las capas para identificar las capas a descongelar\n",
    "for i, layer in enumerate(base_model.layers):\n",
    "    print(f\"{i}: {layer.name} - {'Entrenable' if layer.trainable else 'Congelada'}\")\n",
    "\n",
    "# Decidir cuántas capas descongelar.\n",
    "# Por ejemplo, descongelar las últimas 4 capas del bloque5\n",
    "for layer in base_model.layers:\n",
    "    if layer.name.startswith('block5'):\n",
    "        layer.trainable = True\n",
    "    else:\n",
    "        layer.trainable = False\n",
    "\n",
    "# Verificar qué capas están entrenables\n",
    "print(\"\\nEstado de las capas del modelo base después de descongelar:\")\n",
    "for layer in base_model.layers:\n",
    "    print(f\"{layer.name}: {'Entrenable' if layer.trainable else 'Congelada'}\")\n"
   ]
  },
  {
   "cell_type": "code",
   "execution_count": null,
   "metadata": {},
   "outputs": [],
   "source": [
    "# 4. Recompilar el Modelo con una Tasa de Aprendizaje Reducida\n",
    "# ------------------------------------\n",
    "\n",
    "# Recompilar el modelo para que los cambios en la entrenabilidad de las capas tengan efecto\n",
    "# Usar una tasa de aprendizaje más baja para el fine-tuning\n",
    "mejor_modelo.compile(optimizer=tf.keras.optimizers.Adam(learning_rate=1e-5),\n",
    "                     loss='sparse_categorical_crossentropy',\n",
    "                     metrics=['accuracy'])\n"
   ]
  },
  {
   "cell_type": "code",
   "execution_count": null,
   "metadata": {},
   "outputs": [],
   "source": [
    "# 5. Reentrenar el Modelo con Fine-Tuning\n",
    "# ------------------------------------\n",
    "\n",
    "# Definir callbacks adicionales\n",
    "reduce_lr = ReduceLROnPlateau(monitor='val_loss', factor=0.2,\n",
    "                              patience=2, min_lr=1e-7, verbose=1)\n",
    "\n",
    "# Reentrenar el modelo con fine-tuning\n",
    "history_ft = mejor_modelo.fit(\n",
    "    train_ds,\n",
    "    epochs=10,  # Puedes ajustar el número de épocas según sea necesario\n",
    "    validation_data=val_ds,\n",
    "    callbacks=[early_stop, checkpoint, reduce_lr]\n",
    ")\n"
   ]
  },
  {
   "cell_type": "code",
   "execution_count": null,
   "metadata": {},
   "outputs": [],
   "source": [
    "# 6. Evaluar y Visualizar el Rendimiento Mejorado\n",
    "# ------------------------------------\n",
    "\n",
    "# Evaluar el modelo después del fine-tuning\n",
    "test_loss_ft, test_acc_ft = mejor_modelo.evaluate(val_ds, verbose=2)\n",
    "print(f'\\nPrecisión en el conjunto de prueba después del fine-tuning: {test_acc_ft:.4f}')\n",
    "\n",
    "# Graficar precisión y pérdida durante el fine-tuning\n",
    "plt.figure(figsize=(12, 4))\n",
    "\n",
    "# Precisión\n",
    "plt.subplot(1, 2, 1)\n",
    "plt.plot(history_ft.history['accuracy'], label='Entrenamiento')\n",
    "plt.plot(history_ft.history['val_accuracy'], label='Validación')\n",
    "plt.title('Precisión durante el Fine-Tuning')\n",
    "plt.xlabel('Época')\n",
    "plt.ylabel('Precisión')\n",
    "plt.legend()\n",
    "\n",
    "# Pérdida\n",
    "plt.subplot(1, 2, 2)\n",
    "plt.plot(history_ft.history['loss'], label='Entrenamiento')\n",
    "plt.plot(history_ft.history['val_loss'], label='Validación')\n",
    "plt.title('Pérdida durante el Fine-Tuning')\n",
    "plt.xlabel('Época')\n",
    "plt.ylabel('Pérdida')\n",
    "plt.legend()\n",
    "\n",
    "plt.show()"
   ]
  },
  {
   "cell_type": "code",
   "execution_count": null,
   "metadata": {},
   "outputs": [],
   "source": [
    "# 7. Guardar el Modelo Final\n",
    "# ------------------------------------\n",
    "\n",
    "# Guardar el modelo completamente entrenado\n",
    "mejor_modelo.save('modelo_cnn_transfer_learning_mnist_final.h5')\n",
    "print(\"Modelo final guardado como 'modelo_cnn_transfer_learning_mnist_final.h5'\")\n"
   ]
  },
  {
   "cell_type": "code",
   "execution_count": null,
   "metadata": {},
   "outputs": [],
   "source": [
    "# 8. Hacer Predicciones con el Modelo Final\n",
    "# ------------------------------------\n",
    "\n",
    "# Hacer predicciones sobre el conjunto de prueba\n",
    "predicciones_ft = mejor_modelo.predict(val_ds)\n",
    "clases_predichas_ft = np.argmax(predicciones_ft, axis=1)\n",
    "\n",
    "# Mostrar predicción para la primera imagen del conjunto de prueba\n",
    "indice = 0\n",
    "print(f\"Etiqueta real: {y_test[indice]}\")\n",
    "print(f\"Predicción: {clases_predichas_ft[indice]}\")\n",
    "print(f\"Probabilidades: {predicciones_ft[indice]}\")\n",
    "\n",
    "# Visualizar la imagen con su predicción\n",
    "def mostrar_prediccion(matriz, etiquetas, predicciones, indice):\n",
    "    plt.figure(figsize=(2,2))\n",
    "    plt.imshow(matriz[indice].reshape(28, 28), cmap='gray')\n",
    "    plt.title(f\"Real: {etiquetas[indice]}\\nPred: {predicciones[indice]}\")\n",
    "    plt.axis('off')\n",
    "    plt.show()\n",
    "\n",
    "# Mostrar la primera imagen del conjunto de prueba con su predicción\n",
    "mostrar_prediccion(X_test, y_test, clases_predichas_ft, indice)\n"
   ]
  },
  {
   "cell_type": "code",
   "execution_count": null,
   "metadata": {},
   "outputs": [],
   "source": [
    "# 9. Evaluación Más Detallada (Reporte de Clasificación y Matriz de Confusión)\n",
    "# ------------------------------------\n",
    "\n",
    "# Imprimir el reporte de clasificación\n",
    "print(\"Reporte de Clasificación después del Fine-Tuning:\\n\")\n",
    "print(classification_report(y_test, clases_predichas_ft))\n",
    "\n",
    "# Generar la matriz de confusión\n",
    "cm_ft = confusion_matrix(y_test, clases_predichas_ft)\n",
    "\n",
    "# Visualizar la matriz de confusión\n",
    "plt.figure(figsize=(10,8))\n",
    "sns.heatmap(cm_ft, annot=True, fmt='d', cmap='Greens', \n",
    "            xticklabels=np.unique(y_train), \n",
    "            yticklabels=np.unique(y_train))\n",
    "plt.xlabel('Predicción')\n",
    "plt.ylabel('Realidad')\n",
    "plt.title('Matriz de Confusión después del Fine-Tuning')\n",
    "plt.show()"
   ]
  }
 ],
 "metadata": {
  "kernelspec": {
   "display_name": "Python 3",
   "language": "python",
   "name": "python3"
  },
  "language_info": {
   "codemirror_mode": {
    "name": "ipython",
    "version": 3
   },
   "file_extension": ".py",
   "mimetype": "text/x-python",
   "name": "python",
   "nbconvert_exporter": "python",
   "pygments_lexer": "ipython3",
   "version": "3.12.5"
  }
 },
 "nbformat": 4,
 "nbformat_minor": 2
}
