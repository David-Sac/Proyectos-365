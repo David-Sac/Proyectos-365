{
 "cells": [
  {
   "cell_type": "markdown",
   "id": "a194017c",
   "metadata": {},
   "source": [
    "## 146: Reenvío de Correo de Verificación "
   ]
  },
  {
   "cell_type": "markdown",
   "id": "29a3d03a",
   "metadata": {},
   "source": [
    "Agregar una función para reenviar el correo de verificación si el usuario:\n",
    "\n",
    "❌ Aún no ha activado su cuenta\n",
    "\n",
    "🔁 Pide que se le reenvíe el correo\n",
    "\n",
    "🧩 1. Crear ruta para reenviar el correo\n",
    "En main.py:\n",
    "\n",
    "python\n",
    "Copiar\n",
    "Editar\n",
    "@app.post(\"/resend-verification\")\n",
    "def reenviar_correo_verificacion(request: EmailStr = Body(...)):\n",
    "    user = db.query(User).filter_by(email=request).first()\n",
    "    \n",
    "    if not user:\n",
    "        raise HTTPException(status_code=404, detail=\"Usuario no encontrado\")\n",
    "    \n",
    "    if user.is_active:\n",
    "        raise HTTPException(status_code=400, detail=\"La cuenta ya está activada\")\n",
    "\n",
    "    # Generar nuevo token\n",
    "    user.verification_token = secrets.token_urlsafe(32)\n",
    "    db.commit()\n",
    "\n",
    "    enviar_correo_verificacion(user.email, user.verification_token)\n",
    "\n",
    "    return {\"mensaje\": \"📩 Correo de verificación reenviado correctamente\"}\n",
    "🧩 2. Validación opcional en el frontend (o en otro backend)\n",
    "Puedes mostrar al usuario un mensaje como:\n",
    "\n",
    "“¿No recibiste el correo? Haz clic aquí para reenviarlo.”\n",
    "\n",
    "🧩 3. Reutilizamos la función enviar_correo_verificacion del Día 145\n",
    "No es necesario modificarla, ya que acepta el nuevo token como argumento."
   ]
  }
 ],
 "metadata": {
  "language_info": {
   "name": "python"
  }
 },
 "nbformat": 4,
 "nbformat_minor": 5
}
