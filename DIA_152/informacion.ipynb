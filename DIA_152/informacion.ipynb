{
 "cells": [
  {
   "cell_type": "markdown",
   "id": "bc0b3dbe",
   "metadata": {},
   "source": [
    "## 152: Verificación de Cuenta con Token JWT en FastAPI"
   ]
  },
  {
   "cell_type": "markdown",
   "id": "b5fe1b2a",
   "metadata": {},
   "source": [
    "Implementar un endpoint que verifique el token enviado en el correo de activación para validar la cuenta del usuario y activarla en la base de datos.\n",
    "\n",
    "🧩 1. Endpoint /verificar-cuenta para validar token\n",
    "Este endpoint recibe el token como parámetro de consulta, lo decodifica y activa la cuenta del usuario si el token es válido.\n",
    "\n",
    "python\n",
    "Copiar\n",
    "Editar\n",
    "from fastapi import APIRouter, HTTPException, Depends, Request\n",
    "from sqlalchemy.orm import Session\n",
    "import jwt\n",
    "\n",
    "router = APIRouter()\n",
    "\n",
    "@router.get(\"/verificar-cuenta\")\n",
    "def verificar_cuenta(token: str, db: Session = Depends(get_db)):\n",
    "    try:\n",
    "        datos = jwt.decode(token, SECRET_KEY, algorithms=[ALGORITHM])\n",
    "        email = datos.get(\"sub\")\n",
    "    except jwt.ExpiredSignatureError:\n",
    "        raise HTTPException(status_code=400, detail=\"Token expirado\")\n",
    "    except jwt.PyJWTError:\n",
    "        raise HTTPException(status_code=400, detail=\"Token inválido\")\n",
    "\n",
    "    usuario = db.query(User).filter_by(email=email).first()\n",
    "    if not usuario:\n",
    "        raise HTTPException(status_code=404, detail=\"Usuario no encontrado\")\n",
    "\n",
    "    if usuario.is_active:\n",
    "        return {\"mensaje\": \"✅ Cuenta ya verificada\"}\n",
    "\n",
    "    usuario.is_active = True\n",
    "    db.commit()\n",
    "\n",
    "    return {\"mensaje\": \"🎉 Cuenta verificada correctamente\"}\n",
    "🧩 2. Recordatorio del Token\n",
    "El token fue generado con JWT y enviado al usuario en el correo, con una validez de 24 horas:\n",
    "\n",
    "python\n",
    "Copiar\n",
    "Editar\n",
    "expira = datetime.utcnow() + timedelta(hours=24)\n",
    "datos = {\"sub\": usuario.email, \"exp\": expira}\n",
    "token = jwt.encode(datos, SECRET_KEY, algorithm=ALGORITHM)"
   ]
  }
 ],
 "metadata": {
  "language_info": {
   "name": "python"
  }
 },
 "nbformat": 4,
 "nbformat_minor": 5
}
