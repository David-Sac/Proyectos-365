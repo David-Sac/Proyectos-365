{
 "cells": [
  {
   "cell_type": "markdown",
   "id": "77fb5d7d",
   "metadata": {},
   "source": [
    "## DIA 122: Etiquetado de Reportes con Categorías Personalizadas 🏷️"
   ]
  },
  {
   "cell_type": "markdown",
   "id": "ea95c96a",
   "metadata": {},
   "source": [
    "Hoy vamos a mejorar la organización de los reportes añadiendo categorías o etiquetas personalizadas. Esto permitirá al usuario:\n",
    "\n",
    "Clasificar sus reportes por tipo: \"mensual\", \"análisis\", \"urgente\", etc.\n",
    "\n",
    "Filtrar rápidamente reportes por tema\n",
    "\n",
    "Facilitar la navegación cuando hay muchos registros\n",
    "\n",
    "🧩 1. Modificar el modelo Reporte para incluir una categoría\n",
    "python\n",
    "Copiar\n",
    "Editar\n",
    "class Reporte(db.Model):\n",
    "    id = db.Column(db.Integer, primary_key=True)\n",
    "    user_id = db.Column(db.Integer, db.ForeignKey('user.id'), nullable=False)\n",
    "    fecha_generado = db.Column(db.DateTime, default=datetime.utcnow)\n",
    "    tipo = db.Column(db.String(10))  # 'pdf' o 'csv'\n",
    "    url = db.Column(db.String(500))\n",
    "    comentario = db.Column(db.Text)\n",
    "    categoria = db.Column(db.String(50))  # NUEVO campo para categoría\n",
    "🧩 2. Añadir un formulario para elegir o escribir una categoría\n",
    "En ver_reporte.html:\n",
    "\n",
    "html\n",
    "Copiar\n",
    "Editar\n",
    "<h3>🏷️ Categoría</h3>\n",
    "<form method=\"POST\" action=\"/guardar-categoria/{{ reporte.id }}\">\n",
    "  <input type=\"text\" name=\"categoria\" value=\"{{ reporte.categoria or '' }}\" placeholder=\"Ej: análisis, mensual, urgente\">\n",
    "  <button type=\"submit\">Guardar categoría</button>\n",
    "</form>\n",
    "🧩 3. Crear la ruta en Flask para guardar la categoría\n",
    "python\n",
    "Copiar\n",
    "Editar\n",
    "@app.route('/guardar-categoria/<int:reporte_id>', methods=['POST'])\n",
    "@login_required\n",
    "def guardar_categoria(reporte_id):\n",
    "    reporte = Reporte.query.get_or_404(reporte_id)\n",
    "    if reporte.user_id != current_user.id:\n",
    "        return \"No autorizado\", 403\n",
    "\n",
    "    categoria = request.form.get(\"categoria\", \"\").strip()\n",
    "    reporte.categoria = categoria\n",
    "    db.session.commit()\n",
    "    return redirect(f\"/ver-reporte/{reporte_id}\")\n",
    "🧩 4. Mostrar la categoría en el historial\n",
    "En historial_reportes.html:\n",
    "\n",
    "html\n",
    "Copiar\n",
    "Editar\n",
    "<td>{{ reporte.categoria or \"Sin categoría\" }}</td>\n",
    "También puedes usar un color o estilo distinto si quieres destacarla.\n",
    "\n"
   ]
  }
 ],
 "metadata": {
  "language_info": {
   "name": "python"
  }
 },
 "nbformat": 4,
 "nbformat_minor": 5
}
