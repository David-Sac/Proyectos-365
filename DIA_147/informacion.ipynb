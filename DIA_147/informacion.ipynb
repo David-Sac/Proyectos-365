{
 "cells": [
  {
   "cell_type": "markdown",
   "id": "0b1265d4",
   "metadata": {},
   "source": [
    "## 147: Expiración del Token de Verificación "
   ]
  },
  {
   "cell_type": "markdown",
   "id": "3dd3f25c",
   "metadata": {},
   "source": [
    "Agregar un límite de tiempo al token de verificación enviado por correo, para evitar usos tardíos o maliciosos.\n",
    "\n",
    "🧩 1. Actualizar el modelo User para agregar campo de expiración\n",
    "python\n",
    "Copiar\n",
    "Editar\n",
    "from datetime import datetime, timedelta\n",
    "\n",
    "class User(Base):\n",
    "    __tablename__ = \"users\"\n",
    "\n",
    "    id = Column(Integer, primary_key=True, index=True)\n",
    "    email = Column(String, unique=True, index=True)\n",
    "    hashed_password = Column(String)\n",
    "    is_active = Column(Boolean, default=False)\n",
    "    verification_token = Column(String, nullable=True)\n",
    "    token_expiration = Column(DateTime, nullable=True)  # 🆕 Nuevo campo\n",
    "🧩 2. Asignar la expiración del token al crearlo\n",
    "En la función que registra al usuario o genera el token:\n",
    "\n",
    "python\n",
    "Copiar\n",
    "Editar\n",
    "user.verification_token = secrets.token_urlsafe(32)\n",
    "user.token_expiration = datetime.utcnow() + timedelta(hours=24)  # ⏰ Token válido por 24 horas\n",
    "🧩 3. Validar la expiración en la verificación del correo\n",
    "python\n",
    "Copiar\n",
    "Editar\n",
    "@app.get(\"/verify/{token}\")\n",
    "def verificar_cuenta(token: str):\n",
    "    user = db.query(User).filter_by(verification_token=token).first()\n",
    "\n",
    "    if not user:\n",
    "        raise HTTPException(status_code=404, detail=\"Token inválido\")\n",
    "\n",
    "    if user.token_expiration < datetime.utcnow():\n",
    "        raise HTTPException(status_code=400, detail=\"Token expirado. Solicita uno nuevo.\")\n",
    "\n",
    "    user.is_active = True\n",
    "    user.verification_token = None\n",
    "    user.token_expiration = None\n",
    "    db.commit()\n",
    "\n",
    "    return {\"mensaje\": \"✅ Cuenta activada con éxito\"}\n",
    "🧩 4. Al reenviar el correo, también se actualiza el token_expiration\n",
    "python\n",
    "Copiar\n",
    "Editar\n",
    "user.verification_token = secrets.token_urlsafe(32)\n",
    "user.token_expiration = datetime.utcnow() + timedelta(hours=24)\n",
    "db.commit()\n",
    "enviar_correo_verificacion(user.email, user.verification_token)"
   ]
  }
 ],
 "metadata": {
  "language_info": {
   "name": "python"
  }
 },
 "nbformat": 4,
 "nbformat_minor": 5
}
