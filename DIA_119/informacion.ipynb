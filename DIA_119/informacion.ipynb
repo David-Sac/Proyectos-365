{
 "cells": [
  {
   "cell_type": "markdown",
   "id": "cb549a2d",
   "metadata": {},
   "source": [
    "## DIA 119: Permitir Descargar Todo el Historial de Reportes como un Archivo ZIP"
   ]
  },
  {
   "cell_type": "markdown",
   "id": "e6dd2db4",
   "metadata": {},
   "source": [
    "Hoy agregarás una funcionalidad muy útil: el usuario podrá descargar todos sus reportes (PDF y CSV) en un solo archivo comprimido .zip.\n",
    "\n",
    "✅ ¿Qué aprenderás hoy?\n",
    "\n",
    "📂 Buscar todos los archivos de reportes del usuario\n",
    "\n",
    "📦 Crear un archivo ZIP dinámicamente en memoria\n",
    "\n",
    "📥 Enviar el ZIP como descarga directa\n",
    "\n",
    "🧩 1. Ruta Flask para generar y enviar el ZIP\n",
    "python\n",
    "Copiar\n",
    "Editar\n",
    "from flask import send_file\n",
    "from zipfile import ZipFile\n",
    "import tempfile\n",
    "import os\n",
    "\n",
    "@app.route('/descargar-historial-zip')\n",
    "@login_required\n",
    "def descargar_historial_zip():\n",
    "    reportes = Reporte.query.filter_by(user_id=current_user.id).all()\n",
    "    if not reportes:\n",
    "        return \"No hay reportes disponibles para descargar.\"\n",
    "\n",
    "    # Crear archivo ZIP en memoria\n",
    "    tmp_zip = tempfile.NamedTemporaryFile(delete=False, suffix='.zip')\n",
    "    with ZipFile(tmp_zip.name, 'w') as zipf:\n",
    "        for reporte in reportes:\n",
    "            try:\n",
    "                # Descargar el archivo desde la URL\n",
    "                response = requests.get(reporte.url)\n",
    "                extension = reporte.tipo\n",
    "                nombre = f\"{reporte.fecha_generado.strftime('%Y%m%d_%H%M')}.{extension}\"\n",
    "                zipf.writestr(nombre, response.content)\n",
    "            except Exception as e:\n",
    "                print(f\"❌ Error al agregar {reporte.url} al ZIP: {e}\")\n",
    "\n",
    "    # Volver a abrir el archivo ZIP para enviar\n",
    "    return send_file(tmp_zip.name, as_attachment=True, download_name='historial_reportes.zip')\n",
    "🔐 Este método descarga desde las URLs públicas (como Firebase). Si usas rutas locales, simplemente apunta a open(ruta_local).\n",
    "\n",
    "🧩 2. Añadir botón de descarga en la interfaz\n",
    "Agrega este botón en tu historial (historial_reportes.html):\n",
    "\n",
    "html\n",
    "Copiar\n",
    "Editar\n",
    "<a href=\"/descargar-historial-zip\">\n",
    "  <button>📦 Descargar Todos los Reportes (.zip)</button>\n",
    "</a>"
   ]
  }
 ],
 "metadata": {
  "language_info": {
   "name": "python"
  }
 },
 "nbformat": 4,
 "nbformat_minor": 5
}
