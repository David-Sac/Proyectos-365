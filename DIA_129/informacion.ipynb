{
 "cells": [
  {
   "cell_type": "markdown",
   "id": "c1ba1091",
   "metadata": {},
   "source": [
    "## DIA 129: Descargar el Gráfico por Categoría como Imagen o Incluirlo en un PDF "
   ]
  },
  {
   "cell_type": "markdown",
   "id": "a9b3f8df",
   "metadata": {},
   "source": [
    "Hoy aprenderás a descargar el gráfico de categorías como imagen PNG y también a insertarlo automáticamente en un informe PDF usando jsPDF. Esto sirve para:\n",
    "\n",
    "Generar reportes visuales\n",
    "\n",
    "Compartir o imprimir los análisis\n",
    "\n",
    "Documentar tendencias de uso\n",
    "\n",
    "🧩 1. Botón para descargar como imagen y PDF\n",
    "En estadisticas_reportes.html, debajo del canvas #graficoCategorias:\n",
    "\n",
    "html\n",
    "Copiar\n",
    "Editar\n",
    "<button onclick=\"descargarImagen()\">🖼️ Descargar como Imagen</button>\n",
    "<button onclick=\"descargarPDFCategorias()\">📄 Descargar como PDF</button>\n",
    "🧩 2. Script para descargar el gráfico como imagen\n",
    "html\n",
    "Copiar\n",
    "Editar\n",
    "<script>\n",
    "function descargarImagen() {\n",
    "  const canvas = document.getElementById('graficoCategorias');\n",
    "  const link = document.createElement('a');\n",
    "  link.download = 'grafico_categorias.png';\n",
    "  link.href = canvas.toDataURL('image/png');\n",
    "  link.click();\n",
    "}\n",
    "</script>\n",
    "🧩 3. Script para exportar el gráfico como PDF\n",
    "Debes tener cargado jsPDF y html2canvas (como en el Día 117):\n",
    "\n",
    "html\n",
    "Copiar\n",
    "Editar\n",
    "<script src=\"https://cdnjs.cloudflare.com/ajax/libs/html2canvas/1.4.1/html2canvas.min.js\"></script>\n",
    "<script src=\"https://cdnjs.cloudflare.com/ajax/libs/jspdf/2.5.1/jspdf.umd.min.js\"></script>\n",
    "\n",
    "<script>\n",
    "async function descargarPDFCategorias() {\n",
    "  const { jsPDF } = window.jspdf;\n",
    "  const pdf = new jsPDF();\n",
    "\n",
    "  const canvas = document.getElementById('graficoCategorias');\n",
    "  const imgData = await html2canvas(canvas).then(canvas => canvas.toDataURL('image/png'));\n",
    "\n",
    "  pdf.setFontSize(16);\n",
    "  pdf.text('📊 Reportes por Categoría', 10, 20);\n",
    "  pdf.addImage(imgData, 'PNG', 10, 30, 180, 100);\n",
    "  pdf.save('reporte_categorias.pdf');\n",
    "}\n",
    "</script>"
   ]
  }
 ],
 "metadata": {
  "language_info": {
   "name": "python"
  }
 },
 "nbformat": 4,
 "nbformat_minor": 5
}
