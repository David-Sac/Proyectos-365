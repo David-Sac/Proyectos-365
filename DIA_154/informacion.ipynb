{
 "cells": [
  {
   "cell_type": "markdown",
   "id": "0655525e",
   "metadata": {},
   "source": [
    "## 154: Rutas protegidas con verificación de JWT en FastAPI"
   ]
  },
  {
   "cell_type": "markdown",
   "id": "dba080b0",
   "metadata": {},
   "source": [
    "Implementar un sistema de autenticación que permita proteger rutas utilizando JWTs. Solo los usuarios autenticados y con token válido podrán acceder a determinadas funcionalidades del sistema.\n",
    "\n",
    "🧩 Código completo: Middleware y ruta protegida\n",
    "python\n",
    "Copiar\n",
    "Editar\n",
    "from fastapi import Depends, HTTPException, status\n",
    "from fastapi.security import OAuth2PasswordBearer\n",
    "from jose import JWTError, jwt\n",
    "from datetime import datetime\n",
    "from typing import Optional\n",
    "\n",
    "# Configuración\n",
    "SECRET_KEY = \"CLAVE_SECRETA_SEGURA\"\n",
    "ALGORITHM = \"HS256\"\n",
    "\n",
    "# Usado para obtener el token desde el encabezado Authorization: Bearer <token>\n",
    "oauth2_scheme = OAuth2PasswordBearer(tokenUrl=\"login\")\n",
    "\n",
    "# Función para verificar el token\n",
    "def verificar_token(token: str = Depends(oauth2_scheme)) -> str:\n",
    "    try:\n",
    "        payload = jwt.decode(token, SECRET_KEY, algorithms=[ALGORITHM])\n",
    "        email: str = payload.get(\"sub\")\n",
    "        if email is None:\n",
    "            raise HTTPException(status_code=401, detail=\"Token inválido\")\n",
    "        return email\n",
    "    except JWTError:\n",
    "        raise HTTPException(status_code=401, detail=\"Token inválido o expirado\")\n",
    "\n",
    "# Ruta protegida\n",
    "@app.get(\"/ruta-protegida\")\n",
    "def acceso_restringido(usuario: str = Depends(verificar_token)):\n",
    "    return {\"mensaje\": f\"✅ Acceso concedido a {usuario}\"}"
   ]
  }
 ],
 "metadata": {
  "language_info": {
   "name": "python"
  }
 },
 "nbformat": 4,
 "nbformat_minor": 5
}
