{
 "cells": [
  {
   "cell_type": "markdown",
   "id": "fa49c255",
   "metadata": {},
   "source": [
    "## 151: Reenvío de Correo de Verificación en FastAPI"
   ]
  },
  {
   "cell_type": "markdown",
   "id": "4b1fbd42",
   "metadata": {},
   "source": [
    "Permitir que un usuario pueda solicitar el reenvío del correo de verificación en caso de no haberlo recibido o si lo perdió, para activar su cuenta correctamente.\n",
    "\n",
    "🧩 1. Ruta para reenviar el correo de verificación\n",
    "Creamos un nuevo endpoint en FastAPI que recibe el email del usuario:\n",
    "\n",
    "python\n",
    "Copiar\n",
    "Editar\n",
    "from fastapi import APIRouter, HTTPException, Depends\n",
    "from sqlalchemy.orm import Session\n",
    "\n",
    "router = APIRouter()\n",
    "\n",
    "@router.post(\"/reenviar-verificacion\")\n",
    "def reenviar_verificacion(email: str, db: Session = Depends(get_db)):\n",
    "    usuario = db.query(User).filter_by(email=email).first()\n",
    "    \n",
    "    if not usuario:\n",
    "        raise HTTPException(status_code=404, detail=\"Usuario no encontrado\")\n",
    "\n",
    "    if usuario.is_active:\n",
    "        raise HTTPException(status_code=400, detail=\"La cuenta ya está verificada\")\n",
    "\n",
    "    # Aquí se reenvía el correo de verificación\n",
    "    enviar_correo_verificacion(usuario)\n",
    "\n",
    "    return {\"mensaje\": \"📧 Se ha reenviado el correo de verificación. Revisa tu bandeja de entrada.\"}\n",
    "🧩 2. Función para enviar correo de verificación\n",
    "Simulación del envío de un enlace con token para activación:\n",
    "\n",
    "python\n",
    "Copiar\n",
    "Editar\n",
    "import jwt\n",
    "from datetime import datetime, timedelta\n",
    "\n",
    "SECRET_KEY = \"clave_supersecreta\"\n",
    "ALGORITHM = \"HS256\"\n",
    "\n",
    "def enviar_correo_verificacion(usuario):\n",
    "    expira = datetime.utcnow() + timedelta(hours=24)\n",
    "    datos = {\"sub\": usuario.email, \"exp\": expira}\n",
    "    token = jwt.encode(datos, SECRET_KEY, algorithm=ALGORITHM)\n",
    "\n",
    "    enlace = f\"http://tuapp.com/verificar-cuenta?token={token}\"\n",
    "\n",
    "    # Aquí debes integrar tu proveedor de email\n",
    "    print(f\"[SIMULACIÓN] Enlace de verificación enviado a {usuario.email}: {enlace}\")"
   ]
  }
 ],
 "metadata": {
  "language_info": {
   "name": "python"
  }
 },
 "nbformat": 4,
 "nbformat_minor": 5
}
