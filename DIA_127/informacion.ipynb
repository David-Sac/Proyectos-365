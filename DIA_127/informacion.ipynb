{
 "cells": [
  {
   "cell_type": "markdown",
   "id": "d4242e84",
   "metadata": {},
   "source": [
    "## DIA 127: Autocompletado de Categorías al Escribir una Nueva"
   ]
  },
  {
   "cell_type": "markdown",
   "id": "65002cff",
   "metadata": {},
   "source": [
    "🧩 1. Enviar las categorías al template (como en días anteriores)\n",
    "python\n",
    "Copiar\n",
    "Editar\n",
    "@app.route('/cargar', methods=['GET', 'POST'])\n",
    "@login_required\n",
    "def cargar_reporte():\n",
    "    categorias = db.session.query(Reporte.categoria).filter_by(user_id=current_user.id).distinct().all()\n",
    "    categorias = [c[0] for c in categorias if c[0]]\n",
    "\n",
    "    # ... (POST omitted for brevedad) ...\n",
    "\n",
    "    return render_template(\"cargar_reporte.html\", categorias=categorias)\n",
    "🧩 2. Agregar autocompletado HTML con <datalist> en cargar_reporte.html\n",
    "html\n",
    "Copiar\n",
    "Editar\n",
    "<form method=\"POST\" action=\"{{ url_for('cargar_reporte') }}\">\n",
    "  <label for=\"titulo\">Título:</label>\n",
    "  <input type=\"text\" name=\"titulo\" required><br>\n",
    "\n",
    "  <label for=\"categoria_existente\">Selecciona una categoría:</label>\n",
    "  <select name=\"categoria_existente\" id=\"categoria_existente\">\n",
    "    <option value=\"\">-- Ninguna --</option>\n",
    "    {% for cat in categorias %}\n",
    "      <option value=\"{{ cat }}\">{{ cat }}</option>\n",
    "    {% endfor %}\n",
    "  </select><br>\n",
    "\n",
    "  <label for=\"nueva_categoria\">O escribe una nueva categoría:</label>\n",
    "  <input list=\"sugerencias_categoria\" name=\"nueva_categoria\" id=\"nueva_categoria\">\n",
    "  <datalist id=\"sugerencias_categoria\">\n",
    "    {% for cat in categorias %}\n",
    "      <option value=\"{{ cat }}\">\n",
    "    {% endfor %}\n",
    "  </datalist><br>\n",
    "\n",
    "  <button type=\"submit\">Cargar reporte</button>\n",
    "</form>\n",
    "✨ ¿Qué es <datalist>?\n",
    "Es un componente HTML que permite que un <input> tenga sugerencias sin restringir la escritura libre (a diferencia de un <select>)."
   ]
  },
  {
   "cell_type": "markdown",
   "id": "c0814fd8",
   "metadata": {},
   "source": []
  },
  {
   "cell_type": "markdown",
   "id": "eaef3687",
   "metadata": {},
   "source": []
  }
 ],
 "metadata": {
  "language_info": {
   "name": "python"
  }
 },
 "nbformat": 4,
 "nbformat_minor": 5
}
