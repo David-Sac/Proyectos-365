{
 "cells": [
  {
   "cell_type": "markdown",
   "id": "c0f0daf3",
   "metadata": {},
   "source": [
    "## DIA 117: Exportar las Estadísticas de Reportes como un PDF"
   ]
  },
  {
   "cell_type": "markdown",
   "id": "db790948",
   "metadata": {},
   "source": [
    "Hoy aprenderás a convertir las gráficas de tu dashboard de estadísticas en un informe PDF que los usuarios puedan descargar fácilmente.\n",
    "\n",
    "✅ ¿Qué aprenderás hoy?\n",
    "\n",
    "🖼️ Capturar las gráficas Chart.js como imágenes\n",
    "\n",
    "📄 Insertarlas en un PDF con jsPDF\n",
    "\n",
    "📥 Permitir la descarga inmediata\n",
    "\n",
    "🧩 1. Agrega jsPDF y html2canvas en el template estadisticas_reportes.html\n",
    "En el <head>, debajo de Chart.js:\n",
    "\n",
    "html\n",
    "Copiar\n",
    "Editar\n",
    "<script src=\"https://cdnjs.cloudflare.com/ajax/libs/html2canvas/1.4.1/html2canvas.min.js\"></script>\n",
    "<script src=\"https://cdnjs.cloudflare.com/ajax/libs/jspdf/2.5.1/jspdf.umd.min.js\"></script>\n",
    "🧩 2. Añade un botón para descargar el informe\n",
    "Debajo de tus gráficos:\n",
    "\n",
    "html\n",
    "Copiar\n",
    "Editar\n",
    "<br>\n",
    "<button onclick=\"descargarPDF()\">📄 Descargar Estadísticas como PDF</button>\n",
    "🧩 3. Función descargarPDF()\n",
    "Al final del <script>, agrega:\n",
    "\n",
    "html\n",
    "Copiar\n",
    "Editar\n",
    "<script>\n",
    "  async function descargarPDF() {\n",
    "    const { jsPDF } = window.jspdf;\n",
    "    const pdf = new jsPDF();\n",
    "\n",
    "    const canvasMeses = document.getElementById('graficoMeses');\n",
    "    const canvasTipos = document.getElementById('graficoTipos');\n",
    "\n",
    "    // Capturar las gráficas como imágenes\n",
    "    const imgMeses = await html2canvas(canvasMeses).then(canvas => canvas.toDataURL('image/png'));\n",
    "    const imgTipos = await html2canvas(canvasTipos).then(canvas => canvas.toDataURL('image/png'));\n",
    "\n",
    "    // Insertar en el PDF\n",
    "    pdf.setFontSize(18);\n",
    "    pdf.text('📈 Estadísticas de Reportes', 10, 20);\n",
    "\n",
    "    pdf.addImage(imgMeses, 'PNG', 10, 30, 180, 70);\n",
    "    pdf.addPage();\n",
    "    pdf.text('📂 Distribución por Tipo de Reportes', 10, 20);\n",
    "    pdf.addImage(imgTipos, 'PNG', 30, 40, 150, 120);\n",
    "\n",
    "    pdf.save('estadisticas_reportes.pdf');\n",
    "  }\n",
    "</script>"
   ]
  }
 ],
 "metadata": {
  "language_info": {
   "name": "python"
  }
 },
 "nbformat": 4,
 "nbformat_minor": 5
}
