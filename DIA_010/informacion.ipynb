{
 "cells": [
  {
   "cell_type": "markdown",
   "metadata": {},
   "source": [
    "## DIA 010: Introduccion a las Redes Neurales"
   ]
  },
  {
   "cell_type": "markdown",
   "metadata": {},
   "source": [
    "¿Qué es una Red Neuronal?\n",
    "Las redes neuronales son una clase de modelos de aprendizaje automático inspirados en el funcionamiento del cerebro humano. Están compuestas por capas de neuronas artificiales que procesan la información mediante conexiones ponderadas. Son especialmente efectivas para tareas como clasificación, regresión, reconocimiento de imágenes, procesamiento de lenguaje natural, entre otras.\n",
    "\n",
    "Componentes Clave de una Red Neuronal:\n",
    "- Neuronas (o nodos): Unidades básicas que reciben entradas, las procesan y generan salidas.\n",
    "- Capas:\n",
    "    - Capa de Entrada: Recibe los datos iniciales.\n",
    "    - Capas Ocultas: Procesan la información intermedia.\n",
    "    - Capa de Salida: Genera el resultado final.\n",
    "- Pesos y Biases: Parámetros que la red ajusta durante el entrenamiento para minimizar el error.\n",
    "- Función de Activación: Introduce no linealidad en el modelo, permitiendo aprender relaciones complejas.\n",
    "\n",
    "¿Qué es TensorFlow?\n",
    "TensorFlow es una biblioteca de código abierto desarrollada por Google para realizar cálculos numéricos utilizando flujos de datos. Es ampliamente utilizada para construir y entrenar modelos de aprendizaje profundo (deep learning).\n",
    "\n",
    "¿Qué es Keras?\n",
    "Keras es una API de alto nivel para redes neuronales, escrita en Python y capaz de ejecutarse sobre TensorFlow, Theano o CNTK. Facilita la creación rápida y sencilla de modelos de aprendizaje profundo."
   ]
  },
  {
   "cell_type": "code",
   "execution_count": null,
   "metadata": {},
   "outputs": [],
   "source": [
    "# 1. Importacion de librerias\n",
    "import tensorflow as tf\n",
    "from tensorflow.keras import layers, models\n",
    "import matplotlib.pyplot as plt\n",
    "import numpy as np"
   ]
  },
  {
   "cell_type": "code",
   "execution_count": null,
   "metadata": {},
   "outputs": [],
   "source": [
    "# 2. Carga y Preprocesamiento de Datos\n",
    "# Cargar el dataset MNIST\n",
    "mnist = tf.keras.datasets.mnist\n",
    "(X_train, y_train), (X_test, y_test) = mnist.load_data()\n",
    "\n",
    "# Normalizar los valores de píxeles de 0-255 a 0-1\n",
    "X_train, X_test = X_train / 255.0, X_test / 255.0\n",
    "\n",
    "# Verificar la forma de los datos\n",
    "print(\"Forma de X_train:\", X_train.shape)  # (60000, 28, 28)\n",
    "print(\"Forma de y_train:\", y_train.shape)  # (60000,)\n",
    "print(\"Forma de X_test:\", X_test.shape)    # (10000, 28, 28)\n",
    "print(\"Forma de y_test:\", y_test.shape)    # (10000,)"
   ]
  },
  {
   "cell_type": "code",
   "execution_count": null,
   "metadata": {},
   "outputs": [],
   "source": [
    "# 3. Visualizacion de Datos\n",
    "# Función para visualizar imágenes\n",
    "def mostrar_imagenes(matriz, etiquetas, indice):\n",
    "    plt.figure(figsize=(5,5))\n",
    "    plt.imshow(matriz[indice], cmap='gray')\n",
    "    plt.title(f\"Dígito: {etiquetas[indice]}\")\n",
    "    plt.axis('off')\n",
    "    plt.show()\n",
    "\n",
    "# Mostrar el primer dígito del conjunto de entrenamiento\n",
    "mostrar_imagenes(X_train, y_train, 0)"
   ]
  },
  {
   "cell_type": "code",
   "execution_count": null,
   "metadata": {},
   "outputs": [],
   "source": [
    "# 4. Contruccion del Modelo\n",
    "# Crear el modelo usando la API Sequential de Keras\n",
    "model = models.Sequential([\n",
    "    layers.Flatten(input_shape=(28, 28)),  # Convertir la matriz 28x28 en un vector de 784 elementos\n",
    "    layers.Dense(128, activation='relu'),  # Capa densa con 128 neuronas y función de activación ReLU\n",
    "    layers.Dropout(0.2),                   # Regularización para prevenir overfitting\n",
    "    layers.Dense(10, activation='softmax') # Capa de salida con 10 neuronas (una por dígito) y softmax\n",
    "])\n",
    "\n",
    "# Resumen del modelo\n",
    "model.summary()"
   ]
  },
  {
   "cell_type": "code",
   "execution_count": null,
   "metadata": {},
   "outputs": [],
   "source": [
    "# 5. Complicacion del Modelo\n",
    "# Compilar el modelo definiendo el optimizador, la función de pérdida y las métricas\n",
    "model.compile(optimizer='adam',\n",
    "              loss='sparse_categorical_crossentropy',\n",
    "              metrics=['accuracy'])"
   ]
  },
  {
   "cell_type": "code",
   "execution_count": null,
   "metadata": {},
   "outputs": [],
   "source": [
    "# 6. Entrenamiento del Modelo\n",
    "# Entrenar el modelo\n",
    "history = model.fit(X_train, y_train, epochs=10, validation_data=(X_test, y_test))\n"
   ]
  },
  {
   "cell_type": "code",
   "execution_count": null,
   "metadata": {},
   "outputs": [],
   "source": [
    "# 7. Evaluacion del Modelo\n",
    "# Evaluar el rendimiento en el conjunto de prueba\n",
    "test_loss, test_acc = model.evaluate(X_test, y_test, verbose=2)\n",
    "print(f'\\nPrecisión en el conjunto de prueba: {test_acc:.4f}')"
   ]
  },
  {
   "cell_type": "code",
   "execution_count": null,
   "metadata": {},
   "outputs": [],
   "source": [
    "# 8. Visualizacion del Rendimiento del Modelo\n",
    "# Graficar precisión y pérdida durante el entrenamiento\n",
    "plt.figure(figsize=(12, 4))\n",
    "\n",
    "# Precisión\n",
    "plt.subplot(1, 2, 1)\n",
    "plt.plot(history.history['accuracy'], label='Entrenamiento')\n",
    "plt.plot(history.history['val_accuracy'], label='Validación')\n",
    "plt.title('Precisión durante el Entrenamiento')\n",
    "plt.xlabel('Época')\n",
    "plt.ylabel('Precisión')\n",
    "plt.legend()\n",
    "\n",
    "# Pérdida\n",
    "plt.subplot(1, 2, 2)\n",
    "plt.plot(history.history['loss'], label='Entrenamiento')\n",
    "plt.plot(history.history['val_loss'], label='Validación')\n",
    "plt.title('Pérdida durante el Entrenamiento')\n",
    "plt.xlabel('Época')\n",
    "plt.ylabel('Pérdida')\n",
    "plt.legend()\n",
    "\n",
    "plt.show()"
   ]
  },
  {
   "cell_type": "code",
   "execution_count": null,
   "metadata": {},
   "outputs": [],
   "source": [
    "# 9. Guardado y Carga del Modelo\n",
    "# Guardar el modelo completo en un archivo H5\n",
    "model.save('modelo_mnist.h5')\n",
    "print(\"Modelo guardado como 'modelo_mnist.h5'\")\n",
    "\n",
    "# Cargar el modelo guardado\n",
    "nuevo_modelo = tf.keras.models.load_model('modelo_mnist.h5')\n",
    "print(\"Modelo cargado exitosamente.\")"
   ]
  },
  {
   "cell_type": "code",
   "execution_count": null,
   "metadata": {},
   "outputs": [],
   "source": [
    "# 10. Hacer Predicciones con el Modelo Cargado\n",
    "# Hacer predicciones sobre el conjunto de prueba\n",
    "predicciones = nuevo_modelo.predict(X_test)\n",
    "\n",
    "# Mostrar predicción para la primera imagen del conjunto de prueba\n",
    "indice = 0\n",
    "print(f\"Etiqueta real: {y_test[indice]}\")\n",
    "print(f\"Predicción: {np.argmax(predicciones[indice])}\")\n",
    "print(f\"Probabilidades: {predicciones[indice]}\")"
   ]
  }
 ],
 "metadata": {
  "kernelspec": {
   "display_name": "Python 3",
   "language": "python",
   "name": "python3"
  },
  "language_info": {
   "name": "python",
   "version": "3.12.5"
  }
 },
 "nbformat": 4,
 "nbformat_minor": 2
}
