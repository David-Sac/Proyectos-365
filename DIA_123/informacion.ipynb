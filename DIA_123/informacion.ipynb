{
 "cells": [
  {
   "cell_type": "markdown",
   "id": "eff95746",
   "metadata": {},
   "source": [
    "## DIA 123: Filtro de Reportes por Categoría en la Interfaz de Usuario"
   ]
  },
  {
   "cell_type": "markdown",
   "id": "35e393cc",
   "metadata": {},
   "source": [
    "Permitir que el usuario pueda filtrar sus reportes por categoría personalizada desde la vista del historial, lo cual mejora:\n",
    "\n",
    "La navegación por múltiples reportes\n",
    "\n",
    "La organización visual\n",
    "\n",
    "La usabilidad general del sistema\n",
    "\n",
    "🧩 1. Agregar un formulario de filtro en la plantilla de historial\n",
    "En historial_reportes.html, justo antes de la tabla:\n",
    "\n",
    "html\n",
    "Copiar\n",
    "Editar\n",
    "<form method=\"GET\" action=\"{{ url_for('historial_reportes') }}\">\n",
    "  <label for=\"categoria\">Filtrar por categoría:</label>\n",
    "  <input type=\"text\" name=\"categoria\" id=\"categoria\" value=\"{{ request.args.get('categoria', '') }}\">\n",
    "  <button type=\"submit\">Filtrar</button>\n",
    "  <a href=\"{{ url_for('historial_reportes') }}\">Quitar filtro</a>\n",
    "</form>\n",
    "🧩 2. Modificar la ruta en Flask para aplicar el filtro\n",
    "En tu archivo principal (por ejemplo app.py):\n",
    "\n",
    "python\n",
    "Copiar\n",
    "Editar\n",
    "@app.route('/historial')\n",
    "@login_required\n",
    "def historial_reportes():\n",
    "    categoria_filtro = request.args.get('categoria')\n",
    "    \n",
    "    if categoria_filtro:\n",
    "        reportes = Reporte.query.filter_by(user_id=current_user.id).filter(\n",
    "            Reporte.categoria.ilike(f\"%{categoria_filtro}%\")\n",
    "        ).order_by(Reporte.fecha_generado.desc()).all()\n",
    "    else:\n",
    "        reportes = Reporte.query.filter_by(user_id=current_user.id).order_by(\n",
    "            Reporte.fecha_generado.desc()\n",
    "        ).all()\n",
    "    \n",
    "    return render_template(\"historial_reportes.html\", reportes=reportes)\n",
    "📝 Nota: ilike permite buscar sin distinguir mayúsculas o minúsculas.\n",
    "\n",
    "🧩 3. Mostrar el campo categoría en la tabla (si no lo tienes)\n",
    "En el for de los reportes en la tabla HTML:\n",
    "\n",
    "html\n",
    "Copiar\n",
    "Editar\n",
    "<td>{{ reporte.categoria or \"Sin categoría\" }}</td>\n"
   ]
  }
 ],
 "metadata": {
  "language_info": {
   "name": "python"
  }
 },
 "nbformat": 4,
 "nbformat_minor": 5
}
