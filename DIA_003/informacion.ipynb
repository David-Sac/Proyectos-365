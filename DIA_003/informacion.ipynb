{
 "cells": [
  {
   "cell_type": "markdown",
   "metadata": {},
   "source": [
    "## DIA 002: Regresiión Líneal Múltiple con scikit-learn\n"
   ]
  },
  {
   "cell_type": "markdown",
   "metadata": {},
   "source": [
    "La Regresión Lineal Múltiple es una extensión de la regresión lineal simple que permite predecir una variable dependiente (objetivo) utilizando múltiples variables independientes (predictores). Esta técnica es fundamental en estadísticas y machine learning para modelar relaciones lineales entre variables y hacer predicciones basadas en ellas.\n",
    "\n",
    "En este ejercicio, utilizarás scikit-learn, una biblioteca poderosa y ampliamente utilizada en Python para construir y evaluar modelos de regresión. Aprenderás a:\n",
    "\n",
    "- Preparar y dividir los datos en conjuntos de entrenamiento y prueba.\n",
    "- Entrenar un modelo de regresión lineal múltiple.\n",
    "- Evaluar el rendimiento del modelo utilizando métricas como R² y Error \n",
    "- Cuadrático Medio (MSE).\n",
    "- Interpretar los coeficientes del modelo para entender la influencia de cada predictor."
   ]
  },
  {
   "cell_type": "code",
   "execution_count": 1,
   "metadata": {},
   "outputs": [],
   "source": [
    "# 1.Importar librerias\n",
    "import pandas as pd\n",
    "import numpy as np\n",
    "from sklearn.model_selection import train_test_split\n",
    "from sklearn.linear_model import LinearRegression\n",
    "from sklearn.metrics import mean_absolute_error, r2_score\n",
    "import matplotlib.pyplot as plt\n",
    "import seaborn as sns"
   ]
  },
  {
   "cell_type": "code",
   "execution_count": 2,
   "metadata": {},
   "outputs": [
    {
     "name": "stdout",
     "output_type": "stream",
     "text": [
      "   MedInc  HouseAge  AveRooms  ...  Latitude  Longitude  MedHouseVal\n",
      "0  8.3252      41.0  6.984127  ...     37.88    -122.23        4.526\n",
      "1  8.3014      21.0  6.238137  ...     37.86    -122.22        3.585\n",
      "2  7.2574      52.0  8.288136  ...     37.85    -122.24        3.521\n",
      "3  5.6431      52.0  5.817352  ...     37.85    -122.25        3.413\n",
      "4  3.8462      52.0  6.281853  ...     37.85    -122.25        3.422\n",
      "\n",
      "[5 rows x 9 columns]\n",
      "<class 'pandas.core.frame.DataFrame'>\n",
      "RangeIndex: 20640 entries, 0 to 20639\n",
      "Data columns (total 9 columns):\n",
      " #   Column       Non-Null Count  Dtype  \n",
      "---  ------       --------------  -----  \n",
      " 0   MedInc       20640 non-null  float64\n",
      " 1   HouseAge     20640 non-null  float64\n",
      " 2   AveRooms     20640 non-null  float64\n",
      " 3   AveBedrms    20640 non-null  float64\n",
      " 4   Population   20640 non-null  float64\n",
      " 5   AveOccup     20640 non-null  float64\n",
      " 6   Latitude     20640 non-null  float64\n",
      " 7   Longitude    20640 non-null  float64\n",
      " 8   MedHouseVal  20640 non-null  float64\n",
      "dtypes: float64(9)\n",
      "memory usage: 1.4 MB\n",
      "None\n",
      "             MedInc      HouseAge  ...     Longitude   MedHouseVal\n",
      "count  20640.000000  20640.000000  ...  20640.000000  20640.000000\n",
      "mean       3.870671     28.639486  ...   -119.569704      2.068558\n",
      "std        1.899822     12.585558  ...      2.003532      1.153956\n",
      "min        0.499900      1.000000  ...   -124.350000      0.149990\n",
      "25%        2.563400     18.000000  ...   -121.800000      1.196000\n",
      "50%        3.534800     29.000000  ...   -118.490000      1.797000\n",
      "75%        4.743250     37.000000  ...   -118.010000      2.647250\n",
      "max       15.000100     52.000000  ...   -114.310000      5.000010\n",
      "\n",
      "[8 rows x 9 columns]\n"
     ]
    }
   ],
   "source": [
    "# 2.Cargar y explorar el dataset\n",
    "from sklearn.datasets import fetch_california_housing\n",
    "\n",
    "housing = fetch_california_housing()\n",
    "df = pd.DataFrame(housing.data, columns=housing.feature_names)\n",
    "df['MedHouseVal'] = housing.target\n",
    "\n",
    "print(df.head())\n",
    "print(df.info())\n",
    "print(df.describe())"
   ]
  },
  {
   "cell_type": "code",
   "execution_count": null,
   "metadata": {},
   "outputs": [],
   "source": [
    "# 3.Visualiza las relacionese entre variables\n",
    "\n",
    "# Matriz de correlacion:\n",
    "plt.figure(figsize=(12, 10))\n",
    "sns.heatmap(df.corr(), annot=True, cmap='coolwarm')\n",
    "plt.title(\"Matriz de correlación\")\n",
    "plt.show\n",
    "\n",
    "# Pairplot para observar relaciones especificas:\n",
    "sns.pairplot(df[['MedHouseVal', 'MedInc', 'AveRooms', 'AveOccup', 'Latitude', 'Longitude']])"
   ]
  },
  {
   "cell_type": "code",
   "execution_count": null,
   "metadata": {},
   "outputs": [],
   "source": []
  }
 ],
 "metadata": {
  "kernelspec": {
   "display_name": "Python 3",
   "language": "python",
   "name": "python3"
  },
  "language_info": {
   "codemirror_mode": {
    "name": "ipython",
    "version": 3
   },
   "file_extension": ".py",
   "mimetype": "text/x-python",
   "name": "python",
   "nbconvert_exporter": "python",
   "pygments_lexer": "ipython3",
   "version": "3.12.5"
  }
 },
 "nbformat": 4,
 "nbformat_minor": 2
}
