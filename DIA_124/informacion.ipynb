{
 "cells": [
  {
   "cell_type": "markdown",
   "id": "c2dafccf",
   "metadata": {},
   "source": [
    "## DIA 124: Filtro con Menú Desplegable de Categorías Únicas en Flask"
   ]
  },
  {
   "cell_type": "markdown",
   "id": "d7130ca0",
   "metadata": {},
   "source": [
    "Mejorar el filtro por categoría implementado en el Día 123 agregando un menú desplegable dinámico que muestre solo las categorías existentes de los reportes del usuario.\n",
    "\n",
    "🧩 1. Extraer las categorías únicas del usuario (en Flask)\n",
    "Modificamos la función de la vista historial_reportes para obtener las categorías únicas:\n",
    "\n",
    "python\n",
    "Copiar\n",
    "Editar\n",
    "@app.route('/historial')\n",
    "@login_required\n",
    "def historial_reportes():\n",
    "    categoria_filtro = request.args.get('categoria')\n",
    "    \n",
    "    # Obtener categorías únicas del usuario\n",
    "    categorias = db.session.query(Reporte.categoria).filter_by(user_id=current_user.id).distinct().all()\n",
    "    categorias = [c[0] for c in categorias if c[0]]  # Eliminar None\n",
    "\n",
    "    if categoria_filtro:\n",
    "        reportes = Reporte.query.filter_by(user_id=current_user.id).filter(\n",
    "            Reporte.categoria.ilike(f\"%{categoria_filtro}%\")\n",
    "        ).order_by(Reporte.fecha_generado.desc()).all()\n",
    "    else:\n",
    "        reportes = Reporte.query.filter_by(user_id=current_user.id).order_by(\n",
    "            Reporte.fecha_generado.desc()\n",
    "        ).all()\n",
    "\n",
    "    return render_template(\"historial_reportes.html\", reportes=reportes, categorias=categorias)\n",
    "🧩 2. Crear el menú desplegable en el HTML (historial_reportes.html)\n",
    "Reemplaza el input de texto por un <select> dinámico:\n",
    "\n",
    "html\n",
    "Copiar\n",
    "Editar\n",
    "<form method=\"GET\" action=\"{{ url_for('historial_reportes') }}\">\n",
    "  <label for=\"categoria\">Filtrar por categoría:</label>\n",
    "  <select name=\"categoria\" id=\"categoria\">\n",
    "    <option value=\"\">-- Todas --</option>\n",
    "    {% for cat in categorias %}\n",
    "      <option value=\"{{ cat }}\" {% if cat == request.args.get('categoria') %}selected{% endif %}>\n",
    "        {{ cat }}\n",
    "      </option>\n",
    "    {% endfor %}\n",
    "  </select>\n",
    "  <button type=\"submit\">Filtrar</button>\n",
    "  <a href=\"{{ url_for('historial_reportes') }}\">Quitar filtro</a>\n",
    "</form>"
   ]
  }
 ],
 "metadata": {
  "language_info": {
   "name": "python"
  }
 },
 "nbformat": 4,
 "nbformat_minor": 5
}
