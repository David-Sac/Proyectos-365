{
 "cells": [
  {
   "cell_type": "markdown",
   "id": "5cb4f2e7",
   "metadata": {},
   "source": [
    "## 150: Restricción de Acceso a Usuarios Verificados en FastAPI"
   ]
  },
  {
   "cell_type": "markdown",
   "id": "2441e29c",
   "metadata": {},
   "source": [
    "Asegurar que solo los usuarios con cuenta verificada (is_active=True) puedan acceder a ciertos endpoints protegidos del sistema.\n",
    "\n",
    "🧩 1. Middleware o Dependencia para Validar Verificación de Cuenta\n",
    "Creamos una función que valida si el usuario está verificado antes de permitir acceso:\n",
    "\n",
    "python\n",
    "Copiar\n",
    "Editar\n",
    "from fastapi import Depends, HTTPException, status\n",
    "from fastapi.security import OAuth2PasswordBearer\n",
    "from jose import jwt, JWTError\n",
    "\n",
    "oauth2_scheme = OAuth2PasswordBearer(tokenUrl=\"token\")\n",
    "\n",
    "# Clave secreta y algoritmo del token\n",
    "SECRET_KEY = \"clave_supersecreta\"\n",
    "ALGORITHM = \"HS256\"\n",
    "\n",
    "def obtener_usuario_actual(token: str = Depends(oauth2_scheme), db: Session = Depends(get_db)):\n",
    "    try:\n",
    "        payload = jwt.decode(token, SECRET_KEY, algorithms=[ALGORITHM])\n",
    "        email: str = payload.get(\"sub\")\n",
    "        if email is None:\n",
    "            raise HTTPException(status_code=401, detail=\"Credenciales inválidas\")\n",
    "    except JWTError:\n",
    "        raise HTTPException(status_code=401, detail=\"Token inválido\")\n",
    "\n",
    "    user = db.query(User).filter_by(email=email).first()\n",
    "    if user is None:\n",
    "        raise HTTPException(status_code=404, detail=\"Usuario no encontrado\")\n",
    "\n",
    "    return user\n",
    "🧩 2. Verificar que el usuario esté activo\n",
    "Creamos una segunda función dependiente que valida el estado is_active del usuario:\n",
    "\n",
    "python\n",
    "Copiar\n",
    "Editar\n",
    "def verificar_usuario_activado(usuario: User = Depends(obtener_usuario_actual)):\n",
    "    if not usuario.is_active:\n",
    "        raise HTTPException(status_code=403, detail=\"🔒 Cuenta no verificada. Revisa tu correo.\")\n",
    "    return usuario\n",
    "🧩 3. Aplicar restricción en rutas protegidas\n",
    "Solo se permite acceso a usuarios verificados:\n",
    "\n",
    "python\n",
    "Copiar\n",
    "Editar\n",
    "@app.get(\"/dashboard\")\n",
    "def acceder_dashboard(usuario: User = Depends(verificar_usuario_activado)):\n",
    "    return {\"mensaje\": f\"👋 Bienvenido al panel, {usuario.email}\"}"
   ]
  }
 ],
 "metadata": {
  "language_info": {
   "name": "python"
  }
 },
 "nbformat": 4,
 "nbformat_minor": 5
}
