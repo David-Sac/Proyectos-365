{
 "cells": [
  {
   "cell_type": "markdown",
   "id": "e9ce6805",
   "metadata": {},
   "source": [
    "## DIA 130: Agregar Búsqueda por Palabra Clave en el Historial de Reportes"
   ]
  },
  {
   "cell_type": "markdown",
   "id": "a081ea7b",
   "metadata": {},
   "source": [
    "Implementar una barra de búsqueda por palabra clave que permita al usuario encontrar reportes según:\n",
    "\n",
    "🔤 Título del reporte\n",
    "\n",
    "📝 Comentarios u observaciones\n",
    "\n",
    "🏷️ Categoría (opcionalmente)\n",
    "\n",
    "🧩 1. Modificar la ruta historial_reportes para aceptar query\n",
    "python\n",
    "Copiar\n",
    "Editar\n",
    "@app.route('/historial')\n",
    "@login_required\n",
    "def historial_reportes():\n",
    "    query = request.args.get('q', '').strip()\n",
    "    categoria_filtro = request.args.get('categoria')\n",
    "\n",
    "    # Obtener categorías únicas\n",
    "    categorias = db.session.query(Reporte.categoria).filter_by(user_id=current_user.id).distinct().all()\n",
    "    categorias = [c[0] for c in categorias if c[0]]\n",
    "\n",
    "    # Base de reportes\n",
    "    reportes = Reporte.query.filter_by(user_id=current_user.id)\n",
    "\n",
    "    if query:\n",
    "        # Buscar en título o comentario (ilike para que no sea sensible a mayúsculas)\n",
    "        reportes = reportes.filter(\n",
    "            db.or_(\n",
    "                Reporte.comentario.ilike(f'%{query}%'),\n",
    "                Reporte.categoria.ilike(f'%{query}%'),\n",
    "                Reporte.url.ilike(f'%{query}%'),\n",
    "                Reporte.fecha_generado.ilike(f'%{query}%')\n",
    "            )\n",
    "        )\n",
    "\n",
    "    if categoria_filtro:\n",
    "        reportes = reportes.filter(Reporte.categoria.ilike(f'%{categoria_filtro}%'))\n",
    "\n",
    "    reportes = reportes.order_by(Reporte.fecha_generado.desc()).all()\n",
    "    return render_template(\"historial_reportes.html\", reportes=reportes, categorias=categorias)\n",
    "🧩 2. Agregar el formulario de búsqueda en historial_reportes.html\n",
    "Coloca arriba de la tabla de reportes:\n",
    "\n",
    "html\n",
    "Copiar\n",
    "Editar\n",
    "<form method=\"GET\" action=\"{{ url_for('historial_reportes') }}\">\n",
    "  <input type=\"text\" name=\"q\" placeholder=\"Buscar por título, comentario, categoría...\" value=\"{{ request.args.get('q', '') }}\">\n",
    "  <button type=\"submit\">🔍 Buscar</button>\n",
    "  <a href=\"{{ url_for('historial_reportes') }}\">Limpiar</a>\n",
    "</form>"
   ]
  }
 ],
 "metadata": {
  "language_info": {
   "name": "python"
  }
 },
 "nbformat": 4,
 "nbformat_minor": 5
}
